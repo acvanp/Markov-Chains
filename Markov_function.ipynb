{
 "cells": [
  {
   "cell_type": "markdown",
   "metadata": {},
   "source": [
    "# Absorbing Matrix Function"
   ]
  },
  {
   "cell_type": "code",
   "execution_count": 1,
   "metadata": {},
   "outputs": [],
   "source": [
    "# 5/16/12020\n",
    "# absorbing matrix function with more than one absorbing states\n",
    "\n",
    "import random\n",
    "import numpy as np\n",
    "\n",
    "# define a function that makes an absorbing transition matrix\n",
    "def absorbing_matrix(lvec, abstates): \n",
    "    lvec = lvec # vector length\n",
    "    m = list()\n",
    "\n",
    "    for k in range(0,lvec): # len.vector - 1 in order to have a spare state for the absorbing state\n",
    "        v = [random.random()]\n",
    "        for i in range(0,lvec-1):\n",
    "            if i == lvec - 1:\n",
    "                v = np.append(v, 1-sum(v))\n",
    "            else: v = np.append(v, random.uniform(0,1-sum(v)))\n",
    "        m = np.append(m, v)\n",
    "\n",
    "    shape = (lvec, lvec )\n",
    "    m = m.reshape( shape )\n",
    "\n",
    "    abstates = abstates\n",
    "    abstates = random.sample(range(0,lvec), k= abstates) \n",
    "\n",
    "    for i in range(0, len(abstates)):\n",
    "        x = int(abstates[i])\n",
    "        m[x][range(0,len(m))]= 0\n",
    "        m = np.transpose(m)\n",
    "        m[abstates[i]][abstates[i]] = 1\n",
    "        m = np.transpose(m)\n",
    "        m = np.transpose(m)\n",
    "        m = np.transpose(m)\n",
    "        \n",
    "    return m"
   ]
  },
  {
   "cell_type": "code",
   "execution_count": 6,
   "metadata": {},
   "outputs": [],
   "source": [
    "# DEFINE THE DIMENSIONS OF THE MATRIX\n",
    "lvec = 10  # Write value here\n",
    "\n",
    "abstates = 2 # Provide the number of absorbing states\n",
    "\n",
    "# marko\n",
    "m = absorbing_matrix(lvec, abstates)"
   ]
  },
  {
   "cell_type": "code",
   "execution_count": 7,
   "metadata": {},
   "outputs": [],
   "source": [
    "# Run the experiment over so many trials\n",
    "# Define the number of trials\n",
    "\n",
    "ntrials = 100 # Write value here\n",
    "\n",
    "# state matrix s\n",
    "s = random.sample(range(0,100), k = lvec )\n",
    "\n",
    "ll = list(s)\n",
    "\n",
    "for i in range(1,ntrials):\n",
    "    s = np.dot(m,s) # matrix multiplicatoin is %*%\n",
    "    ll = np.append(ll,s)\n",
    "\n",
    "shape = (ntrials, lvec)\n",
    "ll = ll.reshape(shape)\n",
    "\n",
    "from pandas import DataFrame\n",
    "ll = DataFrame(np.array(ll))"
   ]
  },
  {
   "cell_type": "code",
   "execution_count": 8,
   "metadata": {},
   "outputs": [
    {
     "data": {
      "image/png": "[encoded data removed]",
      "text/plain": [
       "<Figure size 432x288 with 1 Axes>"
      ]
     },
     "metadata": {
      "needs_background": "light"
     },
     "output_type": "display_data"
    }
   ],
   "source": [
    "\n",
    "import matplotlib.pyplot as plt\n",
    "\n",
    "for i in range(0,lvec):\n",
    "    plt.scatter(range(0,ntrials), ll[i], s = 1)\n",
    "\n"
   ]
  }
 ],
 "metadata": {
  "kernelspec": {
   "display_name": "Python 3",
   "language": "python",
   "name": "python3"
  },
  "language_info": {
   "codemirror_mode": {
    "name": "ipython",
    "version": 3
   },
   "file_extension": ".py",
   "mimetype": "text/x-python",
   "name": "python",
   "nbconvert_exporter": "python",
   "pygments_lexer": "ipython3",
   "version": "3.7.0"
  }
 },
 "nbformat": 4,
 "nbformat_minor": 2
}
